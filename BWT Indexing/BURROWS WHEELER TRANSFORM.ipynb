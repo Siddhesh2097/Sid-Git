{
 "cells": [
  {
   "cell_type": "markdown",
   "metadata": {},
   "source": [
    "# BURROWS WHEELER TRANSFORM"
   ]
  },
  {
   "cell_type": "code",
   "execution_count": 5,
   "metadata": {},
   "outputs": [
    {
     "name": "stdout",
     "output_type": "stream",
     "text": [
      "AGATCAGA\n",
      "['AGATCAGA$', '$AGATCAGA', 'A$AGATCAG', 'GA$AGATCA', 'AGA$AGATC', 'CAGA$AGAT', 'TCAGA$AGA', 'ATCAGA$AG', 'GATCAGA$A']\n",
      "['$AGATCAGA', 'A$AGATCAG', 'AGA$AGATC', 'AGATCAGA$', 'ATCAGA$AG', 'CAGA$AGAT', 'GA$AGATCA', 'GATCAGA$A', 'TCAGA$AGA']\n",
      "The Burrows Wheeler Transform of AGATCAGA is AGC$GTAAA\n",
      "The Inverse Burrows Wheeler Transform of AGC$GTAAA is AGATCAGA$\n"
     ]
    }
   ],
   "source": [
    "#string=\"ATCATGCATAAACGTGACTAGCGTGCAGCTAGCGAGCTGGCAGCTAGCGAAGCGATCGAGCTAGCGCGATCAGCTACTAGCATCGACTACGATCGAT\"\n",
    "#string=\"appellee\"\n",
    "\n",
    "SOF='^'\n",
    "EOF=\"$\"\n",
    "\n",
    "def burrows_wheeler_transform(string):\n",
    "    \n",
    "    string+=EOF\n",
    "    #string=SOF+string\n",
    "    ready_str=string\n",
    "    count=0\n",
    "    cyclic_list=[string]\n",
    "    while count<len(string)-1:\n",
    "\n",
    "        ope_str=ready_str\n",
    "        ready_str=\"\"\n",
    "        extract=ope_str[len(ope_str)-1]\n",
    "        ready_str+=extract\n",
    "\n",
    "        for char_in in range(len(ope_str)-1):\n",
    "            ready_str+=ope_str[char_in]\n",
    "        cyclic_list.append(ready_str)\n",
    "        \n",
    "        count+=1\n",
    "\n",
    "    #print(cyclic_list)\n",
    "    sorted_list=sorted(cyclic_list)\n",
    "\n",
    "    #print(sorted_list)\n",
    "\n",
    "    bwt=\"\"\n",
    "    for ele in sorted_list:\n",
    "        bwt+=ele[len(ele)-1]\n",
    "        \n",
    "    return (bwt)\n",
    "\n",
    "def inverse_bur_whe_tran(bwt):\n",
    "    ope_str=bwt\n",
    "    count=0\n",
    "    \n",
    "    while count<len(bwt):\n",
    "        str_sort=sorted(ope_str)\n",
    "        ope_str=[]\n",
    "        for char in range(1):\n",
    "            for ele in range(len(str_sort)):\n",
    "                x=bwt[char+ele]+str_sort[ele]\n",
    "                ope_str.append(x)\n",
    "        count+=1\n",
    "    ##take out string from str_sort with ending EOF\n",
    "    for ele in str_sort:\n",
    "        if ele[len(ele)-1]==EOF:\n",
    "            return ele\n",
    "\n",
    "\n",
    "\n",
    "string=input()\n",
    "bwt=burrows_wheeler_transform(string)\n",
    "inv_bwt=inverse_bur_whe_tran(bwt)\n",
    "print(\"The Burrows Wheeler Transform of {} is {}\".format(string,bwt))\n",
    "print(\"The Inverse Burrows Wheeler Transform of {} is {}\".format(bwt,inv_bwt))"
   ]
  },
  {
   "cell_type": "code",
   "execution_count": null,
   "metadata": {
    "scrolled": true
   },
   "outputs": [],
   "source": []
  },
  {
   "cell_type": "code",
   "execution_count": null,
   "metadata": {},
   "outputs": [],
   "source": []
  }
 ],
 "metadata": {
  "kernelspec": {
   "display_name": "Python 3",
   "language": "python",
   "name": "python3"
  },
  "language_info": {
   "codemirror_mode": {
    "name": "ipython",
    "version": 3
   },
   "file_extension": ".py",
   "mimetype": "text/x-python",
   "name": "python",
   "nbconvert_exporter": "python",
   "pygments_lexer": "ipython3",
   "version": "3.7.4"
  }
 },
 "nbformat": 4,
 "nbformat_minor": 2
}
