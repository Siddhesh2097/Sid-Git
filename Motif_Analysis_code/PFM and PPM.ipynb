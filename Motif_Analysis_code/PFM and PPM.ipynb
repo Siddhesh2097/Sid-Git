{
 "cells": [
  {
   "cell_type": "markdown",
   "metadata": {},
   "source": [
    "# PFM and PPM"
   ]
  },
  {
   "cell_type": "markdown",
   "metadata": {},
   "source": [
    "# SIDDHESH PUJARI"
   ]
  },
  {
   "cell_type": "markdown",
   "metadata": {},
   "source": [
    "### Define a function to make zero matrix"
   ]
  },
  {
   "cell_type": "code",
   "execution_count": 56,
   "metadata": {},
   "outputs": [],
   "source": [
    "def zero_matrix(lst,motifs):\n",
    "    rows=len(lst)\n",
    "    cols=len(motifs)-1\n",
    "    \n",
    "    mat=[[0 for j in range(cols)] for i in range(rows)]\n",
    "    \n",
    "    #Insert nucleotides in the matrix\n",
    "    for row in range(4):\n",
    "        mat[row].insert(0,lst[row])\n",
    "        \n",
    "    return mat\n"
   ]
  },
  {
   "cell_type": "markdown",
   "metadata": {},
   "source": [
    "### Define a function to make (Position Frequency matrix)PFM matrix"
   ]
  },
  {
   "cell_type": "code",
   "execution_count": 57,
   "metadata": {},
   "outputs": [],
   "source": [
    "import copy"
   ]
  },
  {
   "cell_type": "code",
   "execution_count": 58,
   "metadata": {},
   "outputs": [],
   "source": [
    "def pfm_matrix(mat,motifs):\n",
    "    #Copy the matrix to new pfm matrix\n",
    "    pfm = mat.copy()\n",
    "\n",
    "    #Initialize variables\n",
    "    #Create a counter for matrix rows and columns\n",
    "    row_m=0   \n",
    "    col_m=1\n",
    "\n",
    "    len_seq = len(motifs[0])  #This represents columns in our code\n",
    "    motif_len = len(motifs)   #This represents rows in our code\n",
    "\n",
    "    for col in range(len_seq):\n",
    "        #Counter to count the occurences of each nucleotide at each position\n",
    "        count_A=0\n",
    "        count_T=0\n",
    "        count_G=0\n",
    "        count_C=0\n",
    "\n",
    "        row_m=0\n",
    "\n",
    "        for row in range(motif_len):\n",
    "            if motifs[row][col]=='A':\n",
    "                count_A+=1\n",
    "            elif motifs[row][col]=='T':\n",
    "                count_T+=1\n",
    "            elif motifs[row][col]=='G':\n",
    "                count_G+=1\n",
    "            else:\n",
    "                count_C+=1  \n",
    "\n",
    "        #Adding values in the pfm matrix\n",
    "        pfm[row_m][col_m]=count_A\n",
    "        pfm[row_m+1][col_m]=count_T\n",
    "        pfm[row_m+2][col_m]=count_G\n",
    "        pfm[row_m+3][col_m]=count_C\n",
    "\n",
    "        #Incrementing column matrix value for next position in matrix\n",
    "        col_m+=1\n",
    "        \n",
    "    return pfm\n",
    "    \n",
    "    "
   ]
  },
  {
   "cell_type": "markdown",
   "metadata": {},
   "source": [
    "### Position Probability Matrix"
   ]
  },
  {
   "cell_type": "code",
   "execution_count": 74,
   "metadata": {},
   "outputs": [],
   "source": [
    "def ppm_matrix(pfm,const):\n",
    "    ppm = pfm.copy()\n",
    "    for row in range(4):\n",
    "        for col in range(1,10):\n",
    "             ppm[row][col]=ppm[row][col]/const\n",
    "    \n",
    "    return ppm\n",
    "    "
   ]
  },
  {
   "cell_type": "markdown",
   "metadata": {},
   "source": [
    "### Download motifs file from github link"
   ]
  },
  {
   "cell_type": "code",
   "execution_count": 75,
   "metadata": {},
   "outputs": [],
   "source": [
    "#motifs_15 = open(\"/home/ibab/Documents/Sagar_Desai_docs/Ass01/motifs015\")"
   ]
  },
  {
   "cell_type": "code",
   "execution_count": 85,
   "metadata": {},
   "outputs": [],
   "source": [
    "motifs_15 = ! wget -qO- \"https://raw.githubusercontent.com/Siddhesh2097/data/master/Motif_Analysis/motifs015\""
   ]
  },
  {
   "cell_type": "code",
   "execution_count": 76,
   "metadata": {},
   "outputs": [],
   "source": [
    "#motifs_15 = motifs_15.readlines()\n"
   ]
  },
  {
   "cell_type": "code",
   "execution_count": 86,
   "metadata": {},
   "outputs": [
    {
     "data": {
      "text/plain": [
       "['CCAGAATCA',\n",
       " 'ACCCCAGCC',\n",
       " 'ACTACTACT',\n",
       " 'ACAAAAATT',\n",
       " 'ACAGCAGGC',\n",
       " 'CCGCAACCC',\n",
       " 'ACATACAGC',\n",
       " 'CCAAGAAAC',\n",
       " 'ACCCACGCC',\n",
       " 'TCATCAAGC']"
      ]
     },
     "execution_count": 86,
     "metadata": {},
     "output_type": "execute_result"
    }
   ],
   "source": [
    "motifs_15"
   ]
  },
  {
   "cell_type": "code",
   "execution_count": 78,
   "metadata": {},
   "outputs": [],
   "source": [
    "# motifs = []\n",
    "# for lst in motifs_15:\n",
    "#     lst = lst.rstrip()\n",
    "#     motifs.append(lst)"
   ]
  },
  {
   "cell_type": "code",
   "execution_count": 87,
   "metadata": {},
   "outputs": [],
   "source": [
    "#Create nucleotides lst\n",
    "lst = ['A','T','G','C']\n",
    "\n",
    "mat = zero_matrix(lst,motifs)\n"
   ]
  },
  {
   "cell_type": "code",
   "execution_count": 88,
   "metadata": {},
   "outputs": [
    {
     "data": {
      "text/plain": [
       "[['A', 0, 0, 0, 0, 0, 0, 0, 0, 0],\n",
       " ['T', 0, 0, 0, 0, 0, 0, 0, 0, 0],\n",
       " ['G', 0, 0, 0, 0, 0, 0, 0, 0, 0],\n",
       " ['C', 0, 0, 0, 0, 0, 0, 0, 0, 0]]"
      ]
     },
     "execution_count": 88,
     "metadata": {},
     "output_type": "execute_result"
    }
   ],
   "source": [
    "mat"
   ]
  },
  {
   "cell_type": "code",
   "execution_count": 89,
   "metadata": {},
   "outputs": [
    {
     "data": {
      "text/plain": [
       "[['A', 6, 0, 6, 3, 5, 7, 5, 1, 1],\n",
       " ['T', 1, 0, 1, 2, 0, 1, 1, 1, 2],\n",
       " ['G', 0, 0, 1, 2, 1, 0, 3, 3, 0],\n",
       " ['C', 3, 10, 2, 3, 4, 2, 1, 5, 7]]"
      ]
     },
     "execution_count": 89,
     "metadata": {},
     "output_type": "execute_result"
    }
   ],
   "source": [
    "#matrix = mat.copy()\n",
    "pfm = pfm_matrix(mat,motifs)\n",
    "pfm"
   ]
  },
  {
   "cell_type": "code",
   "execution_count": 90,
   "metadata": {},
   "outputs": [
    {
     "data": {
      "text/plain": [
       "10"
      ]
     },
     "execution_count": 90,
     "metadata": {},
     "output_type": "execute_result"
    }
   ],
   "source": [
    "len(motifs)"
   ]
  },
  {
   "cell_type": "code",
   "execution_count": 91,
   "metadata": {},
   "outputs": [
    {
     "data": {
      "text/plain": [
       "[['A', 0.6, 0.0, 0.6, 0.3, 0.5, 0.7, 0.5, 0.1, 0.1],\n",
       " ['T', 0.1, 0.0, 0.1, 0.2, 0.0, 0.1, 0.1, 0.1, 0.2],\n",
       " ['G', 0.0, 0.0, 0.1, 0.2, 0.1, 0.0, 0.3, 0.3, 0.0],\n",
       " ['C', 0.3, 1.0, 0.2, 0.3, 0.4, 0.2, 0.1, 0.5, 0.7]]"
      ]
     },
     "execution_count": 91,
     "metadata": {},
     "output_type": "execute_result"
    }
   ],
   "source": [
    "#divide each value by number of sequences\n",
    "const=len(motifs)\n",
    "#p_frequency_matrix = pfm.copy()\n",
    "ppm = ppm_matrix(pfm,const)\n",
    "ppm"
   ]
  }
 ],
 "metadata": {
  "kernelspec": {
   "display_name": "Python 3",
   "language": "python",
   "name": "python3"
  },
  "language_info": {
   "codemirror_mode": {
    "name": "ipython",
    "version": 3
   },
   "file_extension": ".py",
   "mimetype": "text/x-python",
   "name": "python",
   "nbconvert_exporter": "python",
   "pygments_lexer": "ipython3",
   "version": "3.7.4"
  }
 },
 "nbformat": 4,
 "nbformat_minor": 2
}
