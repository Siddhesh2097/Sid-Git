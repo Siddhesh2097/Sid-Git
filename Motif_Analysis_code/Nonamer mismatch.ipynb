{
 "cells": [
  {
   "cell_type": "markdown",
   "metadata": {},
   "source": [
    "### Download file from github link"
   ]
  },
  {
   "cell_type": "code",
   "execution_count": 153,
   "metadata": {},
   "outputs": [
    {
     "data": {
      "text/plain": [
       "'GTGAAGCTTCAGGGGGTTTGGATGAGGATGGCTGTTACTACGAGGGCTATGTGGCTGATTGAAGAGTATGCAATGAGCGATTTTAGGTCTGTTTGTCGCAGGCAGATGGAGCTTGTTATAATTATGCCTCACAGGGATAGTACAAGGAAGGGGTAGGCTATATGTTTTGTCAGGGGGTTGAGAATGAGTGTGAGGCGTATTATACCATAGCCGCCTAATTTTAAGAGTACTGCAGCAAGTACTATTGACCCAGCGATGGGGGCTTCGACATGGGCTTTAGGGAGCCATAGGTGGAGACCGTAAAGAGGTATTTTTACTATAAAAGCTATTGTGTACGCTAGCCATATTAAGTTATTGGCTCAGGAGTTTGATAGTTCTTGGGCAGTAAGAGTGAGTAATAGAATATTCAGTGAGCCTAGGGTGTTGTGGGTGTAGATTAGTGCGATGAGTAGGGGGAGGGAGCCTACTAGGGTGTAGAATAGGAAGTATGTACCTGCGTTCAGGCGTTCTGGTTGGTTGCCTCATCGGGTGATGATAGCCAGGGTGGGGATAAGTGTGGTTTCGAAGAAGATATAAAATATGATTAGTTCTATGGCTGTGAATGTCATAATTAAGGAGATTTGTAGGGAGATTAGTATAGAGAGGTAGAGTTTTTTTCGTGATAGTGGTTCATTGGATAAGTGGCGTTGGCTTGCCATGATTGTGAGGGGCAGGAGTCAGGTAGTTAGTATTAGGAGGGGGGTCGTTAGGGGGTCGGAGGAGAAGGATAAGGAGCAGCTAAATAGGTTGTTGTTGATTTGGTTGAAAAATAGTAGGGGGATGGTGCTAATAATTAGGCTGTGAGTGGTTGTGTTGATTCAAATTATGTGTTTTTTGGAGAGTCATGTCAGTGGTAGTAATATAATTGTTGGGACAATTAGTTTTAGCATTGGAGTAGGCTTAGGTTATGTACGTAGTCTAGGCCATACGTGTTGGAGATTGAGACTAGTAGGGCTAGGCC'"
      ]
     },
     "execution_count": 153,
     "metadata": {},
     "output_type": "execute_result"
    }
   ],
   "source": [
    "fasta = ! wget -qO- \"https://raw.githubusercontent.com/Siddhesh2097/data/master/Motif_Analysis/15.fa\"\n",
    "\n",
    "#Remove trailing characters if any\n",
    "fasta = fasta[1].rstrip()\n",
    "\n",
    "#fasta file is ready\n",
    "fasta"
   ]
  },
  {
   "cell_type": "markdown",
   "metadata": {},
   "source": [
    "### Motif"
   ]
  },
  {
   "cell_type": "code",
   "execution_count": 154,
   "metadata": {},
   "outputs": [],
   "source": [
    "#Protein with the recognition sequence/motif which is a nonamer (A sequence made up of 9 nucleotides)\n",
    "seq = \"ACAAAAACC\""
   ]
  },
  {
   "cell_type": "code",
   "execution_count": 155,
   "metadata": {},
   "outputs": [],
   "source": [
    "class color:\n",
    "    RED = '\\033[91m'\n",
    "    BOLD = '\\033[1m'\n",
    "    UNDERLINE = '\\033[4m'\n",
    "    END = '\\033[0m'"
   ]
  },
  {
   "cell_type": "code",
   "execution_count": 156,
   "metadata": {},
   "outputs": [],
   "source": [
    "def nonamer_motifs(fasta,seq):\n",
    "    print(color.BOLD+seq+color.END)   #Print motif in bold.............\n",
    "\n",
    "    for i in range(len(fasta)-8):    \n",
    "        mismatch=0\n",
    "        k=0\n",
    "        ex=''\n",
    "        lst=[]\n",
    "\n",
    "        for j in range(i,i+9):\n",
    "            if seq[k]!=fasta[j]:\n",
    "                mismatch+=1\n",
    "                lst.append(j)\n",
    "\n",
    "            k+=1\n",
    "        #To highlight the mismatches....................................\n",
    "        for k in range(i,i+9):\n",
    "            if k in lst:\n",
    "                ex = ex+color.RED+color.UNDERLINE+fasta[k]+color.END\n",
    "            else:\n",
    "                ex = ex+fasta[k]\n",
    "        if mismatch==0:\n",
    "            print(\"{}-exact nonamer\".format(ex))\n",
    "        elif mismatch < 5:\n",
    "            print(\"{}-{} mismatches\".format(ex,mismatch))\n",
    "        \n",
    "        \n",
    "    \n"
   ]
  },
  {
   "cell_type": "code",
   "execution_count": 157,
   "metadata": {},
   "outputs": [
    {
     "name": "stdout",
     "output_type": "stream",
     "text": [
      "\u001b[1mACAAAAACC\u001b[0m\n",
      "\u001b[91m\u001b[4mG\u001b[0mCAA\u001b[91m\u001b[4mT\u001b[0m\u001b[91m\u001b[4mG\u001b[0mA\u001b[91m\u001b[4mG\u001b[0mC-4 mismatches\n",
      "ACAA\u001b[91m\u001b[4mG\u001b[0m\u001b[91m\u001b[4mG\u001b[0mA\u001b[91m\u001b[4mA\u001b[0m\u001b[91m\u001b[4mG\u001b[0m-4 mismatches\n",
      "AC\u001b[91m\u001b[4mC\u001b[0mA\u001b[91m\u001b[4mT\u001b[0mA\u001b[91m\u001b[4mG\u001b[0mCC-3 mismatches\n",
      "\u001b[91m\u001b[4mG\u001b[0mCAA\u001b[91m\u001b[4mG\u001b[0m\u001b[91m\u001b[4mT\u001b[0mAC\u001b[91m\u001b[4mT\u001b[0m-4 mismatches\n",
      "AC\u001b[91m\u001b[4mT\u001b[0mA\u001b[91m\u001b[4mT\u001b[0mAA\u001b[91m\u001b[4mA\u001b[0m\u001b[91m\u001b[4mA\u001b[0m-4 mismatches\n",
      "\u001b[91m\u001b[4mT\u001b[0m\u001b[91m\u001b[4mA\u001b[0m\u001b[91m\u001b[4mT\u001b[0mAAAA\u001b[91m\u001b[4mG\u001b[0mC-4 mismatches\n",
      "A\u001b[91m\u001b[4mT\u001b[0mAAAA\u001b[91m\u001b[4mG\u001b[0mC\u001b[91m\u001b[4mT\u001b[0m-3 mismatches\n",
      "AC\u001b[91m\u001b[4mG\u001b[0m\u001b[91m\u001b[4mC\u001b[0m\u001b[91m\u001b[4mT\u001b[0mA\u001b[91m\u001b[4mG\u001b[0mCC-4 mismatches\n",
      "A\u001b[91m\u001b[4mG\u001b[0mAA\u001b[91m\u001b[4mT\u001b[0mA\u001b[91m\u001b[4mT\u001b[0m\u001b[91m\u001b[4mT\u001b[0mC-4 mismatches\n",
      "A\u001b[91m\u001b[4mT\u001b[0m\u001b[91m\u001b[4mG\u001b[0mA\u001b[91m\u001b[4mT\u001b[0mA\u001b[91m\u001b[4mG\u001b[0mCC-4 mismatches\n",
      "A\u001b[91m\u001b[4mT\u001b[0mA\u001b[91m\u001b[4mT\u001b[0mAAA\u001b[91m\u001b[4mA\u001b[0m\u001b[91m\u001b[4mT\u001b[0m-4 mismatches\n",
      "A\u001b[91m\u001b[4mT\u001b[0mAAAA\u001b[91m\u001b[4mT\u001b[0m\u001b[91m\u001b[4mA\u001b[0m\u001b[91m\u001b[4mT\u001b[0m-4 mismatches\n",
      "A\u001b[91m\u001b[4mT\u001b[0mAA\u001b[91m\u001b[4mG\u001b[0m\u001b[91m\u001b[4mG\u001b[0mA\u001b[91m\u001b[4mG\u001b[0mC-4 mismatches\n",
      "\u001b[91m\u001b[4mT\u001b[0m\u001b[91m\u001b[4mG\u001b[0mAAAAA\u001b[91m\u001b[4mT\u001b[0m\u001b[91m\u001b[4mA\u001b[0m-4 mismatches\n",
      "A\u001b[91m\u001b[4mA\u001b[0mAAA\u001b[91m\u001b[4mT\u001b[0mA\u001b[91m\u001b[4mG\u001b[0m\u001b[91m\u001b[4mT\u001b[0m-4 mismatches\n",
      "ACAA\u001b[91m\u001b[4mT\u001b[0m\u001b[91m\u001b[4mT\u001b[0mA\u001b[91m\u001b[4mG\u001b[0m\u001b[91m\u001b[4mT\u001b[0m-4 mismatches\n"
     ]
    }
   ],
   "source": [
    "nonamer_motifs(fasta,seq)"
   ]
  },
  {
   "cell_type": "markdown",
   "metadata": {},
   "source": [
    "### There are no exact nonamer's in this sequence."
   ]
  },
  {
   "cell_type": "code",
   "execution_count": null,
   "metadata": {},
   "outputs": [],
   "source": []
  },
  {
   "cell_type": "code",
   "execution_count": null,
   "metadata": {},
   "outputs": [],
   "source": []
  }
 ],
 "metadata": {
  "kernelspec": {
   "display_name": "Python 3",
   "language": "python",
   "name": "python3"
  },
  "language_info": {
   "codemirror_mode": {
    "name": "ipython",
    "version": 3
   },
   "file_extension": ".py",
   "mimetype": "text/x-python",
   "name": "python",
   "nbconvert_exporter": "python",
   "pygments_lexer": "ipython3",
   "version": "3.7.4"
  }
 },
 "nbformat": 4,
 "nbformat_minor": 2
}
